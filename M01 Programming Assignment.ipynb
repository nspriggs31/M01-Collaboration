{
 "cells": [
  {
   "cell_type": "code",
   "execution_count": 1,
   "id": "46b135ef-0d1a-4d4c-91d2-ecb5c5462b85",
   "metadata": {},
   "outputs": [
    {
     "data": {
      "text/plain": [
       "3600"
      ]
     },
     "execution_count": 1,
     "metadata": {},
     "output_type": "execute_result"
    }
   ],
   "source": [
    "60*60"
   ]
  },
  {
   "cell_type": "code",
   "execution_count": 5,
   "id": "1907d4bd-26f6-4ca0-98b4-00474593ce30",
   "metadata": {},
   "outputs": [],
   "source": [
    "seconds_per_hour=3600"
   ]
  },
  {
   "cell_type": "code",
   "execution_count": 6,
   "id": "f4285c9e-55d8-4de5-8ac7-7e862271a3f5",
   "metadata": {},
   "outputs": [
    {
     "data": {
      "text/plain": [
       "86400"
      ]
     },
     "execution_count": 6,
     "metadata": {},
     "output_type": "execute_result"
    }
   ],
   "source": [
    "seconds_per_hour*24"
   ]
  },
  {
   "cell_type": "code",
   "execution_count": 7,
   "id": "bedced1e-fd7d-4460-9f5a-843d1291f81d",
   "metadata": {},
   "outputs": [],
   "source": [
    "seconds_per_day=(seconds_per_hour*24)"
   ]
  },
  {
   "cell_type": "code",
   "execution_count": 8,
   "id": "af5897c4-3b46-42d8-b9cd-ab36d5b7a5ac",
   "metadata": {},
   "outputs": [
    {
     "data": {
      "text/plain": [
       "24.0"
      ]
     },
     "execution_count": 8,
     "metadata": {},
     "output_type": "execute_result"
    }
   ],
   "source": [
    "seconds_per_day/seconds_per_hour"
   ]
  },
  {
   "cell_type": "code",
   "execution_count": 9,
   "id": "9671344c-6adc-4cbd-8a52-c129b9724235",
   "metadata": {},
   "outputs": [
    {
     "data": {
      "text/plain": [
       "24"
      ]
     },
     "execution_count": 9,
     "metadata": {},
     "output_type": "execute_result"
    }
   ],
   "source": [
    "seconds_per_day//seconds_per_hour"
   ]
  },
  {
   "cell_type": "markdown",
   "id": "b19c930f-485f-4e5d-bb39-bb270dfb2336",
   "metadata": {},
   "source": [
    "3.6: Yes, this number agrees with the floating point value from the previous question."
   ]
  }
 ],
 "metadata": {
  "kernelspec": {
   "display_name": "Python 3 (ipykernel)",
   "language": "python",
   "name": "python3"
  },
  "language_info": {
   "codemirror_mode": {
    "name": "ipython",
    "version": 3
   },
   "file_extension": ".py",
   "mimetype": "text/x-python",
   "name": "python",
   "nbconvert_exporter": "python",
   "pygments_lexer": "ipython3",
   "version": "3.11.7"
  }
 },
 "nbformat": 4,
 "nbformat_minor": 5
}
